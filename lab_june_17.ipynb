{
  "nbformat": 4,
  "nbformat_minor": 0,
  "metadata": {
    "colab": {
      "provenance": [],
      "authorship_tag": "ABX9TyN614E5b/G9uuqXrnozjUYB",
      "include_colab_link": true
    },
    "kernelspec": {
      "name": "python3",
      "display_name": "Python 3"
    },
    "language_info": {
      "name": "python"
    }
  },
  "cells": [
    {
      "cell_type": "markdown",
      "metadata": {
        "id": "view-in-github",
        "colab_type": "text"
      },
      "source": [
        "<a href=\"https://colab.research.google.com/github/zaidlw/Hack-The-Hood-Hustle/blob/main/lab_june_17.ipynb\" target=\"_parent\"><img src=\"https://colab.research.google.com/assets/colab-badge.svg\" alt=\"Open In Colab\"/></a>"
      ]
    },
    {
      "cell_type": "markdown",
      "source": [
        "# Lab June 17\n",
        "Intro to Pseudo Code"
      ],
      "metadata": {
        "id": "SxrHqp-3x0wj"
      }
    },
    {
      "cell_type": "markdown",
      "source": [
        "#The rules to define variables\n",
        "1. Must start with a Letter or _ Underscore\n",
        "2. Consists of Letters, Numbers, and Underscores but it will not start with a Number\n",
        "3. Variable names are case sensitive\n",
        "\n"
      ],
      "metadata": {
        "id": "Py5Gjpyb0mM2"
      }
    },
    {
      "cell_type": "markdown",
      "source": [
        "### Psuedo code for my application\n",
        "I want to write a program that takes user input and prints it back to the screen.\n",
        "\n",
        "* `First_Name` the user's first name\n",
        "* `Last_Name` the user's last name\n",
        "* `Age` the user's age\n",
        "* `Fav_Color` the user's favourite colour\n",
        "* `Fav_Sport` the user's favourite sport\n",
        "* `Fav_Team` the user's favourite team\n",
        "\n",
        "Use a 'built-in' process to take user's data.\n",
        "\n",
        "Use a 'built-in' process to display user's data."
      ],
      "metadata": {
        "id": "r5NRcioe23FE"
      }
    },
    {
      "cell_type": "code",
      "source": [
        "First_Name = input('What is your first name? ')"
      ],
      "metadata": {
        "colab": {
          "base_uri": "https://localhost:8080/"
        },
        "id": "Rr47cBBp4Fmv",
        "outputId": "2329a916-1e4c-46c7-92ab-6edd33598333"
      },
      "execution_count": 3,
      "outputs": [
        {
          "name": "stdout",
          "output_type": "stream",
          "text": [
            "What is your first name? Zaid\n"
          ]
        }
      ]
    },
    {
      "cell_type": "code",
      "source": [
        "print(First_Name)"
      ],
      "metadata": {
        "colab": {
          "base_uri": "https://localhost:8080/"
        },
        "id": "eTgpOZmt4tEP",
        "outputId": "5c387951-0591-4fc2-e44f-d9ef7c959f7e"
      },
      "execution_count": 4,
      "outputs": [
        {
          "output_type": "stream",
          "name": "stdout",
          "text": [
            "Zaid\n"
          ]
        }
      ]
    },
    {
      "cell_type": "code",
      "source": [
        "First_Name = input('What is your first name? ')\n",
        "Last_Name = input('What is your last name? ')\n",
        "Age = input('What is your age? ')\n",
        "Fav_Color = input('What is your favorite color? ')\n",
        "Fav_Sport = input('What is your favorite sport? ')\n",
        "Fav_Team = input('What is your favorite team? ')"
      ],
      "metadata": {
        "colab": {
          "base_uri": "https://localhost:8080/"
        },
        "id": "56CPC-SB40fo",
        "outputId": "026ca0e6-804e-4757-d598-7bb3a80b6141"
      },
      "execution_count": 5,
      "outputs": [
        {
          "name": "stdout",
          "output_type": "stream",
          "text": [
            "What is your first name? Zaid\n",
            "What is your last name? Lotfy\n",
            "What is your age? 17\n",
            "What is your favorite color? Green\n",
            "What is your favorite sport? Soccer (Football)\n",
            "What is your favorite team? Liverpool\n"
          ]
        }
      ]
    },
    {
      "cell_type": "code",
      "source": [
        "print(f\"User first name is, {First_Name}, last name is, {Last_Name}, age is, {Age},\\\n",
        "favourite color is, {Fav_Color}, favourite sport is, {Fav_Sport}, favourite team is, {Fav_Team}\")"
      ],
      "metadata": {
        "colab": {
          "base_uri": "https://localhost:8080/"
        },
        "id": "OXPvYOcQ5maF",
        "outputId": "e47c6179-ae79-4282-f32f-8ddc7fbb1263"
      },
      "execution_count": 11,
      "outputs": [
        {
          "output_type": "stream",
          "name": "stdout",
          "text": [
            "User first name is, Zaid, last name is, Lotfy, age is, 17,favourite color is, Green, favourite sport is, Soccer (Football), favourite team is, Liverpool\n"
          ]
        }
      ]
    },
    {
      "cell_type": "code",
      "source": [
        "print(f\"Hello there, {First_Name}!\")"
      ],
      "metadata": {
        "colab": {
          "base_uri": "https://localhost:8080/"
        },
        "id": "7vij_5J957FW",
        "outputId": "23ae8927-42a3-4a99-8ca0-08b4a80d7f33"
      },
      "execution_count": 12,
      "outputs": [
        {
          "output_type": "stream",
          "name": "stdout",
          "text": [
            "Hello there, Zaid!\n"
          ]
        }
      ]
    }
  ]
}