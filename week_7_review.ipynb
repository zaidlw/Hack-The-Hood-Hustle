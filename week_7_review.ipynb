{
  "cells": [
    {
      "cell_type": "markdown",
      "metadata": {
        "id": "view-in-github",
        "colab_type": "text"
      },
      "source": [
        "<a href=\"https://colab.research.google.com/github/zaidlw/Hack-The-Hood-Hustle/blob/main/week_7_review.ipynb\" target=\"_parent\"><img src=\"https://colab.research.google.com/assets/colab-badge.svg\" alt=\"Open In Colab\"/></a>"
      ]
    },
    {
      "cell_type": "markdown",
      "metadata": {
        "id": "U9q1dabDzx1E"
      },
      "source": [
        "# Input\n",
        "\n",
        "Make sure we are asking the user a clear question\n",
        "\n",
        "Remember that inputs return the value as a string\n",
        "\n",
        "Input is a function!\n",
        "\n",
        "combos:\n",
        "\n",
        "int(input(\"_____\")) = changes to an integer, a whole #\n",
        "\n",
        "float(input(\"_____\")) = changes to a float, decimals\n",
        "\n"
      ]
    },
    {
      "cell_type": "code",
      "execution_count": null,
      "metadata": {
        "colab": {
          "base_uri": "https://localhost:8080/"
        },
        "id": "Czl_l7LGzKf1",
        "outputId": "7f71a1ad-6097-46d8-8c31-fec431301b70"
      },
      "outputs": [
        {
          "name": "stdout",
          "output_type": "stream",
          "text": [
            "What is your name? zaid\n",
            "zaid\n",
            "How old are you? 17\n",
            "17\n",
            "What is/was your GPA? 4.0\n",
            "4.0\n",
            "Choose any number: 6\n",
            "Choose any number again: 5\n",
            "The sum of those two numbers is = 11\n"
          ]
        }
      ],
      "source": [
        "#1 Create and print a variable that contains a name using the `input()` function\n",
        "\n",
        "user_name = input(\"What is your name? \")\n",
        "print(user_name)\n",
        "\n",
        "#2 Create and print a variable that contains an integer using the `input()` function\n",
        "\n",
        "user_age = int(input(\"How old are you? \"))\n",
        "print(user_age)\n",
        "\n",
        "#3 Create and print a variable that contains a float using the `input()` function\n",
        "\n",
        "user_gpa = float(input(\"What is/was your GPA? \"))\n",
        "print(user_gpa)\n",
        "\n",
        "#4 Create and print a variable that contains an integer using the `input()` function\n",
        "# and add it to another variable\n",
        "\n",
        "num1 = int(input(\"Choose any number: \"))\n",
        "num2 = int(input(\"Choose any number again: \"))\n",
        "print(f\"The sum of those two numbers is = {num1 + num2}\")"
      ]
    },
    {
      "cell_type": "markdown",
      "metadata": {
        "id": "7BfuWyDh67T_"
      },
      "source": [
        "# Conditionals\n",
        "\n",
        "Statements\n",
        "\n",
        "- If the statement is true, then a condition will happen\n",
        "- There is always a ':' (colon) at the end\n",
        "- The next line of code is always indented\n",
        "\n",
        "if _____:\n",
        "elif _____: (always after an if statement)\n",
        "else: (catch all phrase)"
      ]
    },
    {
      "cell_type": "code",
      "execution_count": null,
      "metadata": {
        "colab": {
          "base_uri": "https://localhost:8080/"
        },
        "id": "Dq9deNUH7hb6",
        "outputId": "df668316-bc8d-477c-b059-6c73fedbcc65"
      },
      "outputs": [
        {
          "name": "stdout",
          "output_type": "stream",
          "text": [
            "What is your age? 17\n",
            "Cool! 17 is a wonderful age and you'll be 19 in 2 years. \n",
            "You are so close, only 1 more year until you can vote!\n"
          ]
        }
      ],
      "source": [
        "  # Voting Eligibility Checker\n",
        "\n",
        "# Step 1: Ask the user to enter their age\n",
        "\n",
        "age = int(input(\"What is your age? \"))\n",
        "\n",
        "# Step 2: Tell them a specific statement based off that age\n",
        "\n",
        "future_age = age + 2\n",
        "print(f\"Cool! {age} is a wonderful age and you'll be {future_age} in 2 years. \")\n",
        "\n",
        "#Step 2.1\n",
        "# If the age is 18 or older, print that the user can vote\n",
        "\n",
        "if age >= 18:\n",
        "    print(\"You can vote now!\")\n",
        "\n",
        "#Step 2.2\n",
        "#Elif the user will be 18 in two years, tell them they can vote in two years\n",
        "\n",
        "elif age == 16:\n",
        "    print(f\"You are so close, only 2 more years until you can vote!\")\n",
        "\n",
        "elif age == 17:\n",
        "    print(f\"You are so close, only 1 more year until you can vote!\")\n",
        "\n",
        "#Step 2.3\n",
        "#If they aren't, print that the user cannot vote yet\n",
        "\n",
        "else:\n",
        "    print(f\"You are so close to being able to vote!\")"
      ]
    },
    {
      "cell_type": "markdown",
      "metadata": {
        "id": "1e250C_SAHII"
      },
      "source": [
        "# Guess the number activity"
      ]
    },
    {
      "cell_type": "code",
      "source": [
        "correct_number = 87\n",
        "counter = 0\n",
        "user_guess = int(input(\"I will give you 5 total tries to guess the number I'm thinking of between 0-100. What is your first guess? \"))\n",
        "while counter < 5:\n",
        "    counter += 1\n",
        "    tries_left = 5 - counter\n",
        "    if user_guess == correct_number:\n",
        "        print(f\"Great job! The number I was thinking of was indeed {correct_number}!\")\n",
        "        print(f\"It only took you {counter} tries to guess correctly!\")\n",
        "        break\n",
        "    if tries_left == 0:\n",
        "        print(f\"No more tries left! The correct number was actually {correct_number}!\")\n",
        "        break\n",
        "    if user_guess > correct_number:\n",
        "        print(f\"Not quite, the number I am thinking of is lower than {user_guess}!\")\n",
        "        user_guess = int(input(f\"I will give you {tries_left} total tries to guess the number I'm thinking of. What is your next guess? \"))\n",
        "    elif user_guess < correct_number:\n",
        "        print(f\"Not quite, the number I am thinking of is higher than {user_guess}!\")\n",
        "        user_guess = int(input(f\"I will give you {tries_left} total tries to guess the number I'm thinking of. What is your next guess? \"))"
      ],
      "metadata": {
        "colab": {
          "base_uri": "https://localhost:8080/"
        },
        "id": "8aAMXhdVJk8U",
        "outputId": "31c65a1f-93b7-4bf7-e036-d6493fb117db"
      },
      "execution_count": 56,
      "outputs": [
        {
          "output_type": "stream",
          "name": "stdout",
          "text": [
            "I will give you 5 total tries to guess the number I'm thinking of between 0-100. What is your first guess? 1\n",
            "Not quite, the number I am thinking of is higher than 1!\n",
            "I will give you 4 total tries to guess the number I'm thinking of. What is your next guess? 2\n",
            "Not quite, the number I am thinking of is higher than 2!\n",
            "I will give you 3 total tries to guess the number I'm thinking of. What is your next guess? 3\n",
            "Not quite, the number I am thinking of is higher than 3!\n",
            "I will give you 2 total tries to guess the number I'm thinking of. What is your next guess? 4\n",
            "Not quite, the number I am thinking of is higher than 4!\n",
            "I will give you 1 total tries to guess the number I'm thinking of. What is your next guess? 87\n",
            "Great job! The number I was thinking of was indeed 87!\n",
            "It only took you 5 tries to guess correctly!\n"
          ]
        }
      ]
    },
    {
      "cell_type": "code",
      "execution_count": 40,
      "metadata": {
        "colab": {
          "base_uri": "https://localhost:8080/",
          "height": 365
        },
        "id": "recQ2tGcAKpG",
        "outputId": "e42a6897-f08d-4a08-bb3f-3b67f7cb22c3"
      },
      "outputs": [
        {
          "output_type": "error",
          "ename": "KeyboardInterrupt",
          "evalue": "Interrupted by user",
          "traceback": [
            "\u001b[0;31m---------------------------------------------------------------------------\u001b[0m",
            "\u001b[0;31mKeyboardInterrupt\u001b[0m                         Traceback (most recent call last)",
            "\u001b[0;32m<ipython-input-40-9302af515ac6>\u001b[0m in \u001b[0;36m<cell line: 1>\u001b[0;34m()\u001b[0m\n\u001b[0;32m----> 1\u001b[0;31m \u001b[0mquestion1\u001b[0m \u001b[0;34m=\u001b[0m \u001b[0mint\u001b[0m\u001b[0;34m(\u001b[0m\u001b[0minput\u001b[0m\u001b[0;34m(\u001b[0m\u001b[0;34m\"I will give you 5 total tries to guess the number I'm thinking of between 0-100. What is your first guess? \"\u001b[0m\u001b[0;34m)\u001b[0m\u001b[0;34m)\u001b[0m\u001b[0;34m\u001b[0m\u001b[0;34m\u001b[0m\u001b[0m\n\u001b[0m\u001b[1;32m      2\u001b[0m \u001b[0;31m# Correct number I want to be 87\u001b[0m\u001b[0;34m\u001b[0m\u001b[0;34m\u001b[0m\u001b[0m\n\u001b[1;32m      3\u001b[0m \u001b[0;32mif\u001b[0m \u001b[0mquestion1\u001b[0m \u001b[0;34m==\u001b[0m \u001b[0;36m87\u001b[0m\u001b[0;34m:\u001b[0m\u001b[0;34m\u001b[0m\u001b[0;34m\u001b[0m\u001b[0m\n\u001b[1;32m      4\u001b[0m     \u001b[0mprint\u001b[0m\u001b[0;34m(\u001b[0m\u001b[0;34m\"Great job! The number I was thinking of was indeed 87!\"\u001b[0m\u001b[0;34m)\u001b[0m\u001b[0;34m\u001b[0m\u001b[0;34m\u001b[0m\u001b[0m\n\u001b[1;32m      5\u001b[0m     \u001b[0mprint\u001b[0m\u001b[0;34m(\u001b[0m\u001b[0;34m\"It only took you 1 try to guess correctly!\"\u001b[0m\u001b[0;34m)\u001b[0m\u001b[0;34m\u001b[0m\u001b[0;34m\u001b[0m\u001b[0m\n",
            "\u001b[0;32m/usr/local/lib/python3.10/dist-packages/ipykernel/kernelbase.py\u001b[0m in \u001b[0;36mraw_input\u001b[0;34m(self, prompt)\u001b[0m\n\u001b[1;32m    849\u001b[0m                 \u001b[0;34m\"raw_input was called, but this frontend does not support input requests.\"\u001b[0m\u001b[0;34m\u001b[0m\u001b[0;34m\u001b[0m\u001b[0m\n\u001b[1;32m    850\u001b[0m             )\n\u001b[0;32m--> 851\u001b[0;31m         return self._input_request(str(prompt),\n\u001b[0m\u001b[1;32m    852\u001b[0m             \u001b[0mself\u001b[0m\u001b[0;34m.\u001b[0m\u001b[0m_parent_ident\u001b[0m\u001b[0;34m,\u001b[0m\u001b[0;34m\u001b[0m\u001b[0;34m\u001b[0m\u001b[0m\n\u001b[1;32m    853\u001b[0m             \u001b[0mself\u001b[0m\u001b[0;34m.\u001b[0m\u001b[0m_parent_header\u001b[0m\u001b[0;34m,\u001b[0m\u001b[0;34m\u001b[0m\u001b[0;34m\u001b[0m\u001b[0m\n",
            "\u001b[0;32m/usr/local/lib/python3.10/dist-packages/ipykernel/kernelbase.py\u001b[0m in \u001b[0;36m_input_request\u001b[0;34m(self, prompt, ident, parent, password)\u001b[0m\n\u001b[1;32m    893\u001b[0m             \u001b[0;32mexcept\u001b[0m \u001b[0mKeyboardInterrupt\u001b[0m\u001b[0;34m:\u001b[0m\u001b[0;34m\u001b[0m\u001b[0;34m\u001b[0m\u001b[0m\n\u001b[1;32m    894\u001b[0m                 \u001b[0;31m# re-raise KeyboardInterrupt, to truncate traceback\u001b[0m\u001b[0;34m\u001b[0m\u001b[0;34m\u001b[0m\u001b[0m\n\u001b[0;32m--> 895\u001b[0;31m                 \u001b[0;32mraise\u001b[0m \u001b[0mKeyboardInterrupt\u001b[0m\u001b[0;34m(\u001b[0m\u001b[0;34m\"Interrupted by user\"\u001b[0m\u001b[0;34m)\u001b[0m \u001b[0;32mfrom\u001b[0m \u001b[0;32mNone\u001b[0m\u001b[0;34m\u001b[0m\u001b[0;34m\u001b[0m\u001b[0m\n\u001b[0m\u001b[1;32m    896\u001b[0m             \u001b[0;32mexcept\u001b[0m \u001b[0mException\u001b[0m \u001b[0;32mas\u001b[0m \u001b[0me\u001b[0m\u001b[0;34m:\u001b[0m\u001b[0;34m\u001b[0m\u001b[0;34m\u001b[0m\u001b[0m\n\u001b[1;32m    897\u001b[0m                 \u001b[0mself\u001b[0m\u001b[0;34m.\u001b[0m\u001b[0mlog\u001b[0m\u001b[0;34m.\u001b[0m\u001b[0mwarning\u001b[0m\u001b[0;34m(\u001b[0m\u001b[0;34m\"Invalid Message:\"\u001b[0m\u001b[0;34m,\u001b[0m \u001b[0mexc_info\u001b[0m\u001b[0;34m=\u001b[0m\u001b[0;32mTrue\u001b[0m\u001b[0;34m)\u001b[0m\u001b[0;34m\u001b[0m\u001b[0;34m\u001b[0m\u001b[0m\n",
            "\u001b[0;31mKeyboardInterrupt\u001b[0m: Interrupted by user"
          ]
        }
      ],
      "source": [
        "question1 = int(input(\"I will give you 5 total tries to guess the number I'm thinking of between 0-100. What is your first guess? \"))\n",
        "# Correct number I want to be 87\n",
        "if question1 == 87:\n",
        "    print(\"Great job! The number I was thinking of was indeed 87!\")\n",
        "    print(\"It only took you 1 try to guess correctly!\")\n",
        "if question1 > 87:\n",
        "    print(f\"Not quite, the number I am thinking of is lower than {question1}!\")\n",
        "    question2 = int(input(\"What is your second guess? \"))\n",
        "if question1 < 87:\n",
        "    print(f\"Not quite, the number I am thinking of is higher than {question1}!\")\n",
        "    question2 = int(input(\"What is your second guess? \"))\n",
        "\n",
        "if question2 == 87:\n",
        "    print(\"Great job! The number I was thinking of was indeed 87!\")\n",
        "    print(\"It only took you 2 tries to guess correctly!\")\n",
        "if question2 > 87:\n",
        "    print(f\"Not quite, the number I am thinking of is lower than {question2}!\")\n",
        "    question3 = int(input(\"What is your third guess? \"))\n",
        "if question2 < 87:\n",
        "    print(f\"Not quite, the number I am thinking of is higher than {question2}!\")\n",
        "    question3 = int(input(\"What is your third guess? \"))\n",
        "\n",
        "if question3 == 87:\n",
        "    print(\"Great job! The number I was thinking of was indeed 87!\")\n",
        "    print(\"It only took you 3 tries to guess correctly!\")\n",
        "if question3 > 87:\n",
        "    print(f\"Not quite, the number I am thinking of is lower than {question3}!\")\n",
        "    question4 = int(input(\"What is your fourth guess? \"))\n",
        "if question3 < 87:\n",
        "    print(f\"Not quite, the number I am thinking of is higher than {question3}!\")\n",
        "    question4 = int(input(\"What is your fourth guess? \"))\n",
        "\n",
        "if question4 == 87:\n",
        "    print(\"Great job! The number I was thinking of was indeed 87!\")\n",
        "    print(\"It only took you 4 tries to guess correctly!\")\n",
        "if question4 > 87:\n",
        "    print(f\"Not quite, the number I am thinking of is lower than {question4}!\")\n",
        "    question5 = int(input(\"What is your fifth and final guess? \"))\n",
        "if question4 < 87:\n",
        "    print(f\"Not quite, the number I am thinking of is higher than {question4}!\")\n",
        "    question5 = int(input(\"What is your fifth and final guess? \"))\n",
        "\n",
        "if question5 == 87:\n",
        "    print(\"Great job! The number I was thinking of was indeed 87!\")\n",
        "    print(\"It took you all 5 tries to guess correctly!\")\n",
        "if question5 > 87:\n",
        "    print(f\"Not quite, the number I am thinking of is lower than {question5}!\")\n",
        "    print(\"Specifically, the number I was thinking of was actually 87! \")\n",
        "if question5 < 87:\n",
        "    print(f\"Not quite, the number I am thinking of is higher than {question5}!\")\n",
        "    print(\"Specifically, the number I was thinking of was actually 87! \")"
      ]
    },
    {
      "cell_type": "markdown",
      "metadata": {
        "id": "W9GIuVC1EqSx"
      },
      "source": [
        "# Functions\n",
        "\n",
        "What is a function?\n",
        "\n",
        "Function is a reusable block of code\n",
        "\n",
        "They can take inputs, and give outputs\n",
        "\n",
        "Ex:\n",
        "input(), len(), int(), print()\n",
        "\n",
        "**What is the syntax to create a function?**\n",
        "\n",
        "1.   `def` key starts the function\n",
        "2.   followed by the function name `snake_case`\n",
        "3.   followed by a parenthesis `()`\n",
        "4.   ends with a colon `:`\n",
        "5.   next lines of code is indented\n",
        "\n",
        "**What are parameters / arguments?**\n",
        "\n",
        "Variables listed inside of the parenthesis, can have multiple, separated by a comma\n",
        "\n",
        "**What is the syntax to call a function?**\n",
        "\n",
        "Use function name, and then the parenthsis. If it takes an argument, you place that argument inside of the parenthesis"
      ]
    },
    {
      "cell_type": "code",
      "execution_count": null,
      "metadata": {
        "colab": {
          "base_uri": "https://localhost:8080/"
        },
        "id": "Izlfb2rqF3D8",
        "outputId": "039433d6-6a3a-4206-80ff-77a7fe290b8e"
      },
      "outputs": [
        {
          "name": "stdout",
          "output_type": "stream",
          "text": [
            "Hello everybody! \n"
          ]
        }
      ],
      "source": [
        "def my_greeting():\n",
        "    print(\"Hello everybody!\")\n",
        "\n",
        "my_greeting()"
      ]
    },
    {
      "cell_type": "code",
      "execution_count": null,
      "metadata": {
        "colab": {
          "base_uri": "https://localhost:8080/"
        },
        "id": "42P0gZYtG_4R",
        "outputId": "9ed4c1e1-8dfa-43d7-be7f-e9787c6503d9"
      },
      "outputs": [
        {
          "name": "stdout",
          "output_type": "stream",
          "text": [
            "Hello there Yoline!\n",
            "Hello there Xavier!\n"
          ]
        }
      ],
      "source": [
        "def my_greeting_name(name):\n",
        "    print(f\"Hello there {name}!\")\n",
        "\n",
        "my_greeting_name(\"Yoline\")\n",
        "my_greeting_name(\"Xavier\")"
      ]
    },
    {
      "cell_type": "code",
      "execution_count": null,
      "metadata": {
        "colab": {
          "base_uri": "https://localhost:8080/"
        },
        "id": "XOJz2gbZHWaa",
        "outputId": "12d3969c-8b23-4e1c-9c3b-1d49acd9c3e0"
      },
      "outputs": [
        {
          "name": "stdout",
          "output_type": "stream",
          "text": [
            "Hello there, Hemangi!\n",
            "Hello there, Sara!\n",
            "Hello there, Zaid!\n",
            "Hello there, Xavier!\n",
            "Hello there, Emmanuel!\n",
            "Hello there, Frodo!\n",
            "Hello there, Merry!\n",
            "Hello there, Pippin!\n",
            "Hello there, Sam!\n"
          ]
        }
      ],
      "source": [
        "def greet_class_students(roster):\n",
        "    for student in roster:\n",
        "        print(f\"Hello there, {student}!\")\n",
        "\n",
        "class_A = ['Hemangi', 'Sara', 'Zaid', 'Xavier', 'Emmanuel']\n",
        "greet_class_students(class_A)\n",
        "\n",
        "class_B = ['Frodo', 'Merry', 'Pippin', 'Sam']\n",
        "greet_class_students(class_B)"
      ]
    }
  ],
  "metadata": {
    "colab": {
      "provenance": [],
      "authorship_tag": "ABX9TyO1Ob9T4lcFmVrofWAMAWnc",
      "include_colab_link": true
    },
    "kernelspec": {
      "display_name": "Python 3",
      "name": "python3"
    },
    "language_info": {
      "name": "python"
    }
  },
  "nbformat": 4,
  "nbformat_minor": 0
}