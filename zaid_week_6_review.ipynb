{
  "nbformat": 4,
  "nbformat_minor": 0,
  "metadata": {
    "colab": {
      "provenance": [],
      "authorship_tag": "ABX9TyNd2+vI3BIW4z04SEnwdb2r",
      "include_colab_link": true
    },
    "kernelspec": {
      "name": "python3",
      "display_name": "Python 3"
    },
    "language_info": {
      "name": "python"
    }
  },
  "cells": [
    {
      "cell_type": "markdown",
      "metadata": {
        "id": "view-in-github",
        "colab_type": "text"
      },
      "source": [
        "<a href=\"https://colab.research.google.com/github/zaidlw/Hack-The-Hood-Hustle/blob/main/zaid_week_6_review.ipynb\" target=\"_parent\"><img src=\"https://colab.research.google.com/assets/colab-badge.svg\" alt=\"Open In Colab\"/></a>"
      ]
    },
    {
      "cell_type": "markdown",
      "source": [
        "Iteration Review"
      ],
      "metadata": {
        "id": "BvyYsW931mxA"
      }
    },
    {
      "cell_type": "code",
      "source": [
        "# What is iteration?\n",
        "\n",
        "# I think iteration is something along the lines of a repeating process\n",
        "# A procedure that is done or somethiing that is done through repetition\n",
        "# A process\n",
        "# Instructions of code that involves repeating until something specific is done\n",
        "\n",
        "# What is a while loop?\n",
        "\n",
        "# The While Loop repeatedly executes a block of given code as long as the given condition evaluates to True\n",
        "# While Loops are composed of 3 parts: while keyword, conditional statement, and a loop body\n",
        "# repeating code that is dependent on a condition\n",
        "#keyword = while\n",
        "\n",
        "# What is a for loop?\n",
        "\n",
        "# A For Loop is a definite iteration, so a block of code will be executed for a specific number of times\n",
        "# For Loops are composed of 3 parts: for keyword, loop variable, and an iterable\n",
        "# for loop repeats over an data type or range that you can travel through\n",
        "# a specific number of types\n",
        "# loop variable\n",
        "# keyword = for"
      ],
      "metadata": {
        "id": "wM8Ld09e1oCP"
      },
      "execution_count": null,
      "outputs": []
    },
    {
      "cell_type": "code",
      "source": [
        "# Example of while loop:\n",
        "\n",
        "counter = 0\n",
        "\n",
        "while counter <=5:\n",
        "  print(\"hey!\")\n",
        "\n",
        "# Example for loop:\n",
        "\n",
        "for i in range(3):\n",
        "  print(\"Python’s great!\")\n",
        "\n",
        "#\n",
        "fruits = ['apple', 'strawberry', 'peach']\n",
        "\n",
        "for fruit in fruits:\n",
        "  print(fruit)"
      ],
      "metadata": {
        "id": "GeoANTvd9_Vj"
      },
      "execution_count": null,
      "outputs": []
    },
    {
      "cell_type": "markdown",
      "source": [
        "# While loop or for loop?"
      ],
      "metadata": {
        "id": "HGFleJg15Af8"
      }
    },
    {
      "cell_type": "code",
      "source": [
        "# 1. Print out each name on a student roster\n",
        "\n",
        "roster = ['Hemangi', 'Zaid', 'Arnez', 'Emmanuel', 'Jazz', 'Yoline', 'Jamareaa']\n",
        "\n",
        "for student in roster:\n",
        "  print(f\"Hello! {student[0:7]}\")"
      ],
      "metadata": {
        "colab": {
          "base_uri": "https://localhost:8080/"
        },
        "id": "3WIM5FUp5Fl-",
        "outputId": "8fc43d8a-0d39-45a1-a6c1-f70b31f99edf"
      },
      "execution_count": 8,
      "outputs": [
        {
          "output_type": "stream",
          "name": "stdout",
          "text": [
            "Hello! Hemangi\n",
            "Hello! Zaid\n",
            "Hello! Arnez\n",
            "Hello! Emmanue\n",
            "Hello! Jazz\n",
            "Hello! Yoline\n",
            "Hello! Jamarea\n"
          ]
        }
      ]
    },
    {
      "cell_type": "code",
      "source": [
        "# Another way could be:\n",
        "\n",
        "for index in range(len(roster)):\n",
        "  print(f\"Hello! {roster[index]}\")"
      ],
      "metadata": {
        "colab": {
          "base_uri": "https://localhost:8080/"
        },
        "id": "Z7RAo3vy9fZq",
        "outputId": "58ef20bd-be57-4281-8275-ae99f4a5cd92"
      },
      "execution_count": 12,
      "outputs": [
        {
          "output_type": "stream",
          "name": "stdout",
          "text": [
            "Hello! Hemangi\n",
            "Hello! Zaid\n",
            "Hello! Arnez\n",
            "Hello! Emmanuel\n",
            "Hello! Jazz\n",
            "Hello! Yoline\n",
            "Hello! Jamareaa\n"
          ]
        }
      ]
    },
    {
      "cell_type": "code",
      "source": [
        "# Let's build our grocery list, but if the item is in the list, do not place that\n",
        "# item. NO REPEATS.\n",
        "# then, print out the list\n",
        "\n",
        "# first step: give me an empty list w/ variable name grocery_list\n",
        "\n",
        "grocery_list = []\n",
        "\n",
        "# second step: Ask user to give a grocery item by using an input call\n",
        "\n",
        "item = input(\"What grocery item would you like to write on your list? \")\n",
        "print(f\"Your grocery list now has the following: {item}\")\n",
        "\n",
        "# third step: Step up a condtional to see if item is in the list. If it is, say 'already in list'\n",
        "\n",
        "if item in grocery_list:\n",
        "  print(\"You already have this item on your list. \")\n",
        "\n",
        "# fourth step: use a while to stop at max three items in list\n",
        "\n",
        "while len(grocery_list) < 3:\n",
        "    item = input(\"Give me a grocery item: \")\n",
        "    if item in grocery_list:\n",
        "        print(\"You already have this item in the list!\")\n",
        "    else:\n",
        "        grocery_list.append(item)\n",
        "    print(grocery_list)\n",
        "    print(len(grocery_list))\n",
        "\n",
        "print(\"Your final grocery list is:\", grocery_list)"
      ],
      "metadata": {
        "id": "yfp5-MgGAKP5"
      },
      "execution_count": null,
      "outputs": []
    }
  ]
}