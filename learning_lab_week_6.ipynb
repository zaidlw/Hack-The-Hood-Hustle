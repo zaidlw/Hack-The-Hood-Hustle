{
  "nbformat": 4,
  "nbformat_minor": 0,
  "metadata": {
    "colab": {
      "provenance": [],
      "authorship_tag": "ABX9TyNKdIVvAQSPH5Zy3JaLMJf+",
      "include_colab_link": true
    },
    "kernelspec": {
      "name": "python3",
      "display_name": "Python 3"
    },
    "language_info": {
      "name": "python"
    }
  },
  "cells": [
    {
      "cell_type": "markdown",
      "metadata": {
        "id": "view-in-github",
        "colab_type": "text"
      },
      "source": [
        "<a href=\"https://colab.research.google.com/github/zaidlw/Hack-The-Hood-Hustle/blob/main/learning_lab_week_6.ipynb\" target=\"_parent\"><img src=\"https://colab.research.google.com/assets/colab-badge.svg\" alt=\"Open In Colab\"/></a>"
      ]
    },
    {
      "cell_type": "markdown",
      "source": [
        "##Making and Utilizing Functions"
      ],
      "metadata": {
        "id": "O48QxC80jAWR"
      }
    },
    {
      "cell_type": "markdown",
      "source": [
        "1. Define a function add_to_cart that makes an item and a cart (list) as arguments and adds the item to the cart only if it is not already present. Use a loop to check for the item's presence."
      ],
      "metadata": {
        "id": "avaODNXEeP1_"
      }
    },
    {
      "cell_type": "code",
      "source": [
        "def add_to_cart(item, cart):\n",
        "  for item_in_cart in cart:\n",
        "    if item_in_cart == item:\n",
        "      return \"Item in cart.\"\n",
        "  print(\"Item not in cart. Adding...\")\n",
        "  cart.append(item)\n",
        "  return cart\n",
        "\n",
        "cart = [\"apple\", \"banana\", \"orange\"]\n",
        "item = \"apple\"\n",
        "print(add_to_cart(\"pineapple\", cart))\n",
        "print(add_to_cart(item, cart))"
      ],
      "metadata": {
        "colab": {
          "base_uri": "https://localhost:8080/"
        },
        "id": "je7klTtue4BT",
        "outputId": "ccd54488-baa2-4a00-f927-5afd42d3849e"
      },
      "execution_count": 11,
      "outputs": [
        {
          "output_type": "stream",
          "name": "stdout",
          "text": [
            "Item not in cart. Adding...\n",
            "['apple', 'banana', 'orange', 'pineapple']\n",
            "Item in cart.\n"
          ]
        }
      ]
    },
    {
      "cell_type": "markdown",
      "source": [
        "2. Create a function remove_from_cart that takes an item and a cart (list) as arguments. The function removes the item from the cart if it exists. Use the list method .remove()."
      ],
      "metadata": {
        "id": "lI4qtCjghfim"
      }
    },
    {
      "cell_type": "code",
      "source": [
        "def remove_from_cart(item, cart):\n",
        "  for i in cart:\n",
        "    if i == item:\n",
        "      print(\"Item found. Removing...\")\n",
        "      cart.remove(item)\n",
        "      return cart\n",
        "  print(\"item not in cart\")\n",
        "  return cart\n",
        "\n",
        "cart = [\"apple\", \"banana\", \"orange\",]\n",
        "item = \"apple\"\n",
        "print(remove_from_cart(\"pineapple\", cart))\n",
        "print(remove_from_cart(item, cart))"
      ],
      "metadata": {
        "colab": {
          "base_uri": "https://localhost:8080/"
        },
        "id": "VoXhuoNKh3FX",
        "outputId": "43653d42-f4d4-4a8e-d709-f439a85673be"
      },
      "execution_count": 13,
      "outputs": [
        {
          "output_type": "stream",
          "name": "stdout",
          "text": [
            "item not in cart\n",
            "['apple', 'banana', 'orange']\n",
            "Item found. Removing...\n",
            "['banana', 'orange']\n"
          ]
        }
      ]
    }
  ]
}