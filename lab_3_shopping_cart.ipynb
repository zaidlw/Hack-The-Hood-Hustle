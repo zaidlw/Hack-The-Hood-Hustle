{
  "nbformat": 4,
  "nbformat_minor": 0,
  "metadata": {
    "colab": {
      "provenance": [],
      "authorship_tag": "ABX9TyPvBf+jK/XPVnzsLAP828GR",
      "include_colab_link": true
    },
    "kernelspec": {
      "name": "python3",
      "display_name": "Python 3"
    },
    "language_info": {
      "name": "python"
    }
  },
  "cells": [
    {
      "cell_type": "markdown",
      "metadata": {
        "id": "view-in-github",
        "colab_type": "text"
      },
      "source": [
        "<a href=\"https://colab.research.google.com/github/zaidlw/Hack-The-Hood-Hustle/blob/main/lab_3_shopping_cart.ipynb\" target=\"_parent\"><img src=\"https://colab.research.google.com/assets/colab-badge.svg\" alt=\"Open In Colab\"/></a>"
      ]
    },
    {
      "cell_type": "markdown",
      "source": [
        "# Shoppingt Cart\n",
        "## Part I\n",
        "1. What do I have?\n",
        "- I have the variables I want to use.\n",
        "- I have defined a way to check if something is already on my cart.\n",
        "- I have a way to ask the user for data.\n",
        "2. what do I want?\n",
        "I want to start the process of building a shopping cart.\n",
        "\n",
        "3. what do I need?\n",
        "- a place to hold items.\n",
        "    \n",
        "    `cart`\n",
        "\n",
        "a way to add items to our list\n",
        "    \n",
        "    `cart.append()`\n",
        "a way to print the items in our list\n",
        "    \n",
        "    `print(\"\"\"\"\"\"\" STUFF \"\"\"\"\"\"\")`\n",
        "\n",
        "\n",
        "a way to check if an item is already on that list. (optional)\n",
        "    `if` item is on the cart\n",
        "    `then`   do something\n",
        "    `else`   do somethign else\n",
        "The applicatio wiull ask the user for items and then add them to a list which we call cart.  then a process will check if the item entered is on the list and if it is, the item will not be placed on that list."
      ],
      "metadata": {
        "id": "82NkNloI3edB"
      }
    },
    {
      "cell_type": "code",
      "source": [
        "cart = []\n",
        "# defining cart"
      ],
      "metadata": {
        "id": "8UzreirI49ik"
      },
      "execution_count": null,
      "outputs": []
    },
    {
      "cell_type": "code",
      "source": [
        "cart.append('tacos')\n",
        "# adding item to cart\n",
        "print(f\"The items in your cart are: {cart}\")\n",
        "# shows what is in the cart now"
      ],
      "metadata": {
        "colab": {
          "base_uri": "https://localhost:8080/"
        },
        "id": "d1tVKffu5Q0K",
        "outputId": "efb24b33-7494-447e-e8a0-352daba79f88"
      },
      "execution_count": null,
      "outputs": [
        {
          "output_type": "stream",
          "name": "stdout",
          "text": [
            "The items in your cart are: ['tacos']\n"
          ]
        }
      ]
    },
    {
      "cell_type": "code",
      "source": [
        "item = input('What would you like to add to the shopping cart? ')\n",
        "# now we can type any other thing we want to also add\n",
        "cart.append(item)\n",
        "# this will place what we said into the cart\n",
        "print(f\"The items in your cart are: {cart}\")\n",
        "# once again, shows what is in the cart now"
      ],
      "metadata": {
        "colab": {
          "base_uri": "https://localhost:8080/"
        },
        "id": "Gi8VcIze5SKK",
        "outputId": "d1f76f9e-f287-4034-dee3-e73b5426e05b"
      },
      "execution_count": null,
      "outputs": [
        {
          "output_type": "stream",
          "name": "stdout",
          "text": [
            "What would you like to add to the shopping cart? ice cream\n",
            "The items in your cart are: ['tacos', 'ice cream']\n"
          ]
        }
      ]
    },
    {
      "cell_type": "code",
      "source": [
        "print(f\"The items in your cart are: {cart}\")\n",
        "item = input('What would you like to add to the shopping cart? ')\n",
        "# the same as before\n",
        "'''\n",
        "`if` item is on the cart\n",
        "`then`   do something\n",
        "`else`   do somethign else\n",
        "'''\n",
        "if item in cart:\n",
        "    # meaning, if whatever we type is already in the cart\n",
        "    print(f'{item} is already on the cart.')\n",
        "    # it won't add it another time, it will instead just tell me that I already have that in the cart\n",
        "else:\n",
        "# meaning, if thats not the case then\n",
        "    cart.append(item)\n",
        "    # this will add whatever new item said into the cart\n",
        "print(f\"The items in your cart are: {cart}\")\n",
        "# once more, this will just list out the total items we have"
      ],
      "metadata": {
        "colab": {
          "base_uri": "https://localhost:8080/"
        },
        "id": "eyZTbG906vgU",
        "outputId": "8bb85105-974e-4f31-cac8-e4e97fd6a81b"
      },
      "execution_count": null,
      "outputs": [
        {
          "output_type": "stream",
          "name": "stdout",
          "text": [
            "The items in your cart are: ['tacos', 'ice cream']\n",
            "What would you like to add to the shopping cart? tacos\n",
            "tacos is already on the cart.\n",
            "The items in your cart are: ['tacos', 'ice cream']\n"
          ]
        }
      ]
    }
  ]
}