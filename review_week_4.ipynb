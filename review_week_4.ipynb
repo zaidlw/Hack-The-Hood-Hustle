{
  "nbformat": 4,
  "nbformat_minor": 0,
  "metadata": {
    "colab": {
      "provenance": [],
      "authorship_tag": "ABX9TyPiLb4KmM4OX65+4hngg9Rd",
      "include_colab_link": true
    },
    "kernelspec": {
      "name": "python3",
      "display_name": "Python 3"
    },
    "language_info": {
      "name": "python"
    }
  },
  "cells": [
    {
      "cell_type": "markdown",
      "metadata": {
        "id": "view-in-github",
        "colab_type": "text"
      },
      "source": [
        "<a href=\"https://colab.research.google.com/github/zaidlw/Hack-The-Hood-Hustle/blob/main/review_week_4.ipynb\" target=\"_parent\"><img src=\"https://colab.research.google.com/assets/colab-badge.svg\" alt=\"Open In Colab\"/></a>"
      ]
    },
    {
      "cell_type": "markdown",
      "source": [
        "# Lists"
      ],
      "metadata": {
        "id": "akF0Xtbrv9Es"
      }
    },
    {
      "cell_type": "code",
      "source": [
        "# 1. Create a list and then print it, making sure to give it a descriptive variable name:\n",
        "\n",
        "my_favorite_fruits = [3, \"Mangoes\", \"Guavas\", \"Blueberries \"]\n",
        "print(my_favorite_fruits)"
      ],
      "metadata": {
        "colab": {
          "base_uri": "https://localhost:8080/"
        },
        "id": "8jXVAkbdwCoY",
        "outputId": "ff6dbcf8-8a4a-4955-9dce-f468fe72d984"
      },
      "execution_count": 1,
      "outputs": [
        {
          "output_type": "stream",
          "name": "stdout",
          "text": [
            "[3, 'Mangoes', 'Guavas', 'Blueberries ']\n"
          ]
        }
      ]
    },
    {
      "cell_type": "code",
      "source": [
        "# 2. Index pracrice\n",
        "\n",
        "rainbow_colors = ['red', 'orange', 'yellow', 'green', 'blue', 'indigo', 'violet']\n",
        "\n",
        "# Print the third color through indexing\n",
        "\n",
        "print(rainbow_colors[2])"
      ],
      "metadata": {
        "colab": {
          "base_uri": "https://localhost:8080/"
        },
        "id": "V2Dqsd62xMiU",
        "outputId": "e54a375a-9c36-455f-d11c-64d3290aa5cd"
      },
      "execution_count": 3,
      "outputs": [
        {
          "output_type": "stream",
          "name": "stdout",
          "text": [
            "yellow\n"
          ]
        }
      ]
    },
    {
      "cell_type": "markdown",
      "source": [
        "# Inputs"
      ],
      "metadata": {
        "id": "TNDDoSPazNlg"
      }
    },
    {
      "cell_type": "code",
      "source": [
        "# Step 1: Get the user's name as input\n",
        "\n",
        "user_name = input(\"What's your name? \")\n",
        "print(\"Hello, \" + user_name + \"!\")"
      ],
      "metadata": {
        "colab": {
          "base_uri": "https://localhost:8080/"
        },
        "id": "ujdiB8mlznPM",
        "outputId": "84519483-ed95-4d18-e948-43984f576492"
      },
      "execution_count": 4,
      "outputs": [
        {
          "output_type": "stream",
          "name": "stdout",
          "text": [
            "What's your name? Zaid\n",
            "Hello, Zaid!\n"
          ]
        }
      ]
    },
    {
      "cell_type": "code",
      "source": [
        "# Step 2: Get the user's age as input and convert it to an integer\n",
        "\n",
        "age = input(\"How old are you? \")\n",
        "num_age = int(age)\n",
        "future_age = num_age + 5\n",
        "print(f\"Damn! You will be {future_age} in 5 years!\")"
      ],
      "metadata": {
        "colab": {
          "base_uri": "https://localhost:8080/"
        },
        "id": "FjAwv8O10c7u",
        "outputId": "bc728ae2-41a8-4f16-caaa-3fa2dcacd89e"
      },
      "execution_count": 9,
      "outputs": [
        {
          "output_type": "stream",
          "name": "stdout",
          "text": [
            "How old are you? 17\n",
            "Damn! You will be 22 in 5 years!\n"
          ]
        }
      ]
    },
    {
      "cell_type": "markdown",
      "source": [
        "# Conditionals"
      ],
      "metadata": {
        "id": "JkJJmj6j6D41"
      }
    },
    {
      "cell_type": "code",
      "source": [
        "# Ask the user's age with an input statement:\n",
        "\n",
        "user_age = input(\"What is your age? \")\n",
        "num_age = int(user_age)\n",
        "if num_age >= 18 :\n",
        "  print(\"You are an adult, you can vote!\")\n",
        "else:\n",
        "  print(\"You are a minor.\")"
      ],
      "metadata": {
        "colab": {
          "base_uri": "https://localhost:8080/"
        },
        "id": "1r5DYPZ06IxG",
        "outputId": "f3c0485d-ce68-4089-e293-0bb36881ac44"
      },
      "execution_count": 15,
      "outputs": [
        {
          "output_type": "stream",
          "name": "stdout",
          "text": [
            "What is your age? 17\n",
            "You are a minor.\n"
          ]
        }
      ]
    },
    {
      "cell_type": "code",
      "source": [
        "fruits_search = input(\"What would you like to buy at the fruit store today? \")\n",
        "fruits = [\"apple\", \"banana\", \"orange\", \"grape\", \"pineapple\"]\n",
        "if fruits_search.lower() in fruits:\n",
        "  print(\"We have that!\")\n",
        "else:\n",
        "  print(\"Sorry, we do not sell that unfortunately.\")"
      ],
      "metadata": {
        "colab": {
          "base_uri": "https://localhost:8080/"
        },
        "id": "7sX7x0rR7MRK",
        "outputId": "1ba30403-fb0c-4747-dea7-d1c7c39f7b3b"
      },
      "execution_count": 14,
      "outputs": [
        {
          "output_type": "stream",
          "name": "stdout",
          "text": [
            "What would you like to buy at the fruit store today? Apple\n",
            "We have that!\n"
          ]
        }
      ]
    }
  ]
}