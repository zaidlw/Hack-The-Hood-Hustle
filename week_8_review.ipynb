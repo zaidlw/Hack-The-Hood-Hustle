{
  "nbformat": 4,
  "nbformat_minor": 0,
  "metadata": {
    "colab": {
      "provenance": [],
      "authorship_tag": "ABX9TyOV0e3ldpQtq3TUvlxvHNk1",
      "include_colab_link": true
    },
    "kernelspec": {
      "name": "python3",
      "display_name": "Python 3"
    },
    "language_info": {
      "name": "python"
    }
  },
  "cells": [
    {
      "cell_type": "markdown",
      "metadata": {
        "id": "view-in-github",
        "colab_type": "text"
      },
      "source": [
        "<a href=\"https://colab.research.google.com/github/zaidlw/Hack-The-Hood-Hustle/blob/main/week_8_review.ipynb\" target=\"_parent\"><img src=\"https://colab.research.google.com/assets/colab-badge.svg\" alt=\"Open In Colab\"/></a>"
      ]
    },
    {
      "cell_type": "markdown",
      "source": [
        "Function w/ print statement"
      ],
      "metadata": {
        "id": "rN9mc1fkA8lM"
      }
    },
    {
      "cell_type": "code",
      "source": [
        "def generate_superhero_power():\n",
        "\n",
        "    # Define a user name and superhero power\n",
        "    user_name = \"Mega Mind\"\n",
        "    power = \"Super Big Head\"\n",
        "    # Combine the user's name with the given superhero power\n",
        "    overview = f\"This Superhero's name is: {user_name}, and his Superpower is: {power}\"\n",
        "    # Print the result\n",
        "    print(overview)\n",
        "# Example usage\n",
        "# Call the function\n",
        "generate_superhero_power()"
      ],
      "metadata": {
        "colab": {
          "base_uri": "https://localhost:8080/"
        },
        "id": "PaHQsX-OBBMl",
        "outputId": "4a1626bd-11e4-4f1c-bc02-a157a871983e"
      },
      "execution_count": 8,
      "outputs": [
        {
          "output_type": "stream",
          "name": "stdout",
          "text": [
            "This Superhero's name is: Mega Mind, and his Superpower is: Super Big Head\n"
          ]
        }
      ]
    },
    {
      "cell_type": "markdown",
      "source": [
        "Function w/ return"
      ],
      "metadata": {
        "id": "saDxEy2XFZPM"
      }
    },
    {
      "cell_type": "code",
      "source": [
        "#write function w/ a return statement:\n",
        "def get_superhero_power():\n",
        "\n",
        "    # Define a superhero power\n",
        "    superhero_power = \"Laser Eyes\"\n",
        "    # Return the superhero power\n",
        "    return superhero_power\n",
        "\n",
        "# Example usage\n",
        "# Call the function and print the result\n",
        "superpower = get_superhero_power()\n",
        "print(f\"This Superhero's special ability is: {superpower}\")"
      ],
      "metadata": {
        "colab": {
          "base_uri": "https://localhost:8080/"
        },
        "id": "AROJcYpKFbQZ",
        "outputId": "04b8f95f-840d-4479-a3c2-08bd7a487e6a"
      },
      "execution_count": 14,
      "outputs": [
        {
          "output_type": "stream",
          "name": "stdout",
          "text": [
            "This Superhero's special ability is: Laser Eyes\n"
          ]
        }
      ]
    },
    {
      "cell_type": "markdown",
      "source": [
        "Function w/ argument"
      ],
      "metadata": {
        "id": "d_OjDGSZInGk"
      }
    },
    {
      "cell_type": "code",
      "source": [
        "#hint use ()\n",
        "    # Combine the user's name with the given superhero power\n",
        "    # Return the result\n",
        "# Example usage\n",
        "# Call the function with arguments and print the result\n",
        "\n",
        "def generate_superheros_power(name, power):\n",
        "    result = f\"The Superhero {name} has the power of {power}.\"\n",
        "    return result\n",
        "\n",
        "example_name = \"Mr. Bean\"\n",
        "example_power = \"growing lots of beans\"\n",
        "print(generate_superheros_power(example_name, example_power))"
      ],
      "metadata": {
        "colab": {
          "base_uri": "https://localhost:8080/"
        },
        "id": "uoz2ExYLIqDH",
        "outputId": "3801cb4c-0326-4ce7-af9a-0cd266975f51"
      },
      "execution_count": 18,
      "outputs": [
        {
          "output_type": "stream",
          "name": "stdout",
          "text": [
            "The Superhero Mr. Bean has the power of growing lots of beans.\n"
          ]
        }
      ]
    }
  ]
}