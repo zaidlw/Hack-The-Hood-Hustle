{
  "nbformat": 4,
  "nbformat_minor": 0,
  "metadata": {
    "colab": {
      "provenance": [],
      "authorship_tag": "ABX9TyM8d8ET+F4/gWO3vpnN9rck",
      "include_colab_link": true
    },
    "kernelspec": {
      "name": "python3",
      "display_name": "Python 3"
    },
    "language_info": {
      "name": "python"
    }
  },
  "cells": [
    {
      "cell_type": "markdown",
      "metadata": {
        "id": "view-in-github",
        "colab_type": "text"
      },
      "source": [
        "<a href=\"https://colab.research.google.com/github/zaidlw/Hack-The-Hood-Hustle/blob/main/week_3_data_structures.ipynb\" target=\"_parent\"><img src=\"https://colab.research.google.com/assets/colab-badge.svg\" alt=\"Open In Colab\"/></a>"
      ]
    },
    {
      "cell_type": "markdown",
      "source": [
        "# Lists and Dictionaries\n",
        "\n",
        "###### accessing lists, dictionaries, manipulating data"
      ],
      "metadata": {
        "id": "WSaPFZk-vjk-"
      }
    },
    {
      "cell_type": "code",
      "source": [
        "#1 - make a list of your favorite foods BUT in a dictionary and print it out\n",
        "\n",
        "food_preferences = {\n",
        "    \"Zaid\" : {\n",
        "        \"likes\" : [\"steak\", \"fried chicken\", \"koshary\"],\n",
        "        \"dislikes\" : [\"goat milk\"]\n",
        "    }\n",
        "}\n",
        "\n",
        "print(\"My food preferences:\")\n",
        "print(food_preferences)"
      ],
      "metadata": {
        "colab": {
          "base_uri": "https://localhost:8080/"
        },
        "id": "ryu5GYWJvoSw",
        "outputId": "349b7921-9d39-49f3-9f31-fd87cd57c66d"
      },
      "execution_count": 11,
      "outputs": [
        {
          "output_type": "stream",
          "name": "stdout",
          "text": [
            "My food preferences:\n",
            "{'Zaid': {'likes': ['steak', 'fried chicken', 'koshary'], 'dislikes': ['goat milk']}}\n"
          ]
        }
      ]
    },
    {
      "cell_type": "code",
      "source": [
        "#2 - print only the second thing that you like\n",
        "\n",
        "print(\"The second food I liked:\")\n",
        "print(food_preferences[\"Zaid\"][\"likes\"][1])"
      ],
      "metadata": {
        "colab": {
          "base_uri": "https://localhost:8080/"
        },
        "id": "yChbNWXJzFqi",
        "outputId": "8a978688-c200-493b-ede1-750ceb1b5d55"
      },
      "execution_count": 12,
      "outputs": [
        {
          "output_type": "stream",
          "name": "stdout",
          "text": [
            "The second food I liked:\n",
            "fried chicken\n"
          ]
        }
      ]
    },
    {
      "cell_type": "code",
      "source": [
        "#3 - modify it by appending and popping\n",
        "\n",
        "food_preferences[\"Zaid\"][\"likes\"].append(\"scrambled eggs\")\n",
        "\n",
        "food_preferences[\"Zaid\"][\"likes\"].pop(0)\n",
        "\n",
        "print(\"My new food preferences:\")\n",
        "print(food_preferences)"
      ],
      "metadata": {
        "colab": {
          "base_uri": "https://localhost:8080/"
        },
        "id": "BaPWmfqXzYFN",
        "outputId": "7690d410-9b26-4cad-9236-3812fed6451f"
      },
      "execution_count": 13,
      "outputs": [
        {
          "output_type": "stream",
          "name": "stdout",
          "text": [
            "My new food preferences:\n",
            "{'Zaid': {'likes': ['fried chicken', 'koshary', 'scrambled eggs'], 'dislikes': ['goat milk']}}\n"
          ]
        }
      ]
    },
    {
      "cell_type": "markdown",
      "source": [
        "# Independent work for meal options"
      ],
      "metadata": {
        "id": "KVb9J-cE1jxX"
      }
    },
    {
      "cell_type": "code",
      "source": [
        "meal_options = {\n",
        "   \"breakfast\": {\n",
        "       \"food\": [\"pancakes\", \"waffles\", \"fruit\"],\n",
        "       \"drinks\": [\"coffee\", \"black tea\", \"smoothie\", \"water\"]\n",
        "   },\n",
        "   \"lunch\": {\n",
        "       \"food\": [\"sandwich\", \"dumplings\"],\n",
        "       \"drinks\": [\"water\", \"green tea\", \"soda\"]\n",
        "   },\n",
        "   \"dinner\": {\n",
        "       \"food\": [\"ramen\", \"risotto\"],\n",
        "       \"drinks\": [\"water\", \"chamomile tea\"]\n",
        "   }\n",
        "}\n",
        "\n",
        "#1 - print all the meal options\n",
        "\n",
        "print(\"All options:\")\n",
        "print(meal_options)"
      ],
      "metadata": {
        "colab": {
          "base_uri": "https://localhost:8080/"
        },
        "id": "86iYJqdi8i6j",
        "outputId": "78c84f75-4214-4a5f-d8fe-979d740a19d0"
      },
      "execution_count": 52,
      "outputs": [
        {
          "output_type": "stream",
          "name": "stdout",
          "text": [
            "All options:\n",
            "{'breakfast': {'food': ['pancakes', 'waffles', 'fruit'], 'drinks': ['coffee', 'black tea', 'smoothie', 'water']}, 'lunch': {'food': ['sandwich', 'dumplings'], 'drinks': ['water', 'green tea', 'soda']}, 'dinner': {'food': ['ramen', 'risotto'], 'drinks': ['water', 'chamomile tea']}}\n"
          ]
        }
      ]
    },
    {
      "cell_type": "code",
      "source": [
        "#2 - print only the breakfast options\n",
        "\n",
        "print(\"All breakfast options:\")\n",
        "print(meal_options[\"breakfast\"])"
      ],
      "metadata": {
        "colab": {
          "base_uri": "https://localhost:8080/"
        },
        "id": "w_aoXMl28l6v",
        "outputId": "038000ea-6d45-45a3-989a-4c682a42d5c4"
      },
      "execution_count": 53,
      "outputs": [
        {
          "output_type": "stream",
          "name": "stdout",
          "text": [
            "All breakfast options:\n",
            "{'food': ['pancakes', 'waffles', 'fruit'], 'drinks': ['coffee', 'black tea', 'smoothie', 'water']}\n"
          ]
        }
      ]
    },
    {
      "cell_type": "code",
      "source": [
        "#3 - print only the dinner food options\n",
        "\n",
        "print(\"Dinner food options:\")\n",
        "print(meal_options[\"dinner\"][\"food\"])"
      ],
      "metadata": {
        "colab": {
          "base_uri": "https://localhost:8080/"
        },
        "id": "dnvARPMT8ozU",
        "outputId": "02efdafa-253f-48e4-82f8-fb1979463c43"
      },
      "execution_count": 54,
      "outputs": [
        {
          "output_type": "stream",
          "name": "stdout",
          "text": [
            "Dinner food options:\n",
            "['ramen', 'risotto']\n"
          ]
        }
      ]
    },
    {
      "cell_type": "code",
      "source": [
        "#4 - print the lunch drinks options\n",
        "\n",
        "print(\"Lunch drinks options:\")\n",
        "print(meal_options[\"lunch\"][\"drinks\"])"
      ],
      "metadata": {
        "colab": {
          "base_uri": "https://localhost:8080/"
        },
        "id": "1z5BUi9L8wgb",
        "outputId": "72673660-0ed8-4505-c893-b7b57c836ff5"
      },
      "execution_count": 55,
      "outputs": [
        {
          "output_type": "stream",
          "name": "stdout",
          "text": [
            "Lunch drinks options:\n",
            "['water', 'green tea', 'soda']\n"
          ]
        }
      ]
    },
    {
      "cell_type": "code",
      "source": [
        "#5 - print waffles (by accessing the dictionaries and list)\n",
        "\n",
        "print(\"The second breakfast option:\")\n",
        "print(meal_options[\"breakfast\"][\"food\"][1])"
      ],
      "metadata": {
        "colab": {
          "base_uri": "https://localhost:8080/"
        },
        "id": "9oQLj2118z60",
        "outputId": "28ae2b1d-becd-49f0-e4ee-82bc85546e05"
      },
      "execution_count": 56,
      "outputs": [
        {
          "output_type": "stream",
          "name": "stdout",
          "text": [
            "The second breakfast option:\n",
            "waffles\n"
          ]
        }
      ]
    },
    {
      "cell_type": "code",
      "source": [
        "#6 - print dumplings (by accessing the dictionaries and list)\n",
        "\n",
        "print(\"The second lunch option:\")\n",
        "print(meal_options[\"lunch\"][\"food\"][1])"
      ],
      "metadata": {
        "colab": {
          "base_uri": "https://localhost:8080/"
        },
        "id": "EiKjjXb6826N",
        "outputId": "5232c663-fffd-4eb6-9cc8-ec7d5e406be7"
      },
      "execution_count": 57,
      "outputs": [
        {
          "output_type": "stream",
          "name": "stdout",
          "text": [
            "The second lunch option:\n",
            "dumplings\n"
          ]
        }
      ]
    },
    {
      "cell_type": "code",
      "source": [
        "#7 - print chamomile tea (by accessing the dictionaries and list)\n",
        "\n",
        "print(\"The second dinner drink option:\")\n",
        "print(meal_options[\"dinner\"][\"drinks\"][1])"
      ],
      "metadata": {
        "colab": {
          "base_uri": "https://localhost:8080/"
        },
        "id": "7oBKv3GA85pr",
        "outputId": "2f3b2863-b46b-4070-a207-1dd86c9bb480"
      },
      "execution_count": 58,
      "outputs": [
        {
          "output_type": "stream",
          "name": "stdout",
          "text": [
            "The second dinner drink option:\n",
            "chamomile tea\n"
          ]
        }
      ]
    },
    {
      "cell_type": "code",
      "source": [
        "#8 - remove green tea from the lunch drinks\n",
        "\n",
        "print(\"Updated lunch drinks options:\")\n",
        "meal_options[\"lunch\"][\"drinks\"].pop(1)\n",
        "print(meal_options[\"lunch\"][\"drinks\"])"
      ],
      "metadata": {
        "colab": {
          "base_uri": "https://localhost:8080/"
        },
        "id": "YIhuK69A8-8y",
        "outputId": "ae33da41-b74d-43c8-9108-a147f1984d3b"
      },
      "execution_count": 59,
      "outputs": [
        {
          "output_type": "stream",
          "name": "stdout",
          "text": [
            "Updated lunch drinks options:\n",
            "['water', 'soda']\n"
          ]
        }
      ]
    },
    {
      "cell_type": "code",
      "source": [
        "#9 - add pizza to dinner foods\n",
        "\n",
        "print(\"Updated dinner foods options:\")\n",
        "meal_options[\"dinner\"][\"food\"].append(\"pizza\")\n",
        "print(meal_options[\"dinner\"][\"food\"])"
      ],
      "metadata": {
        "colab": {
          "base_uri": "https://localhost:8080/"
        },
        "id": "Dd6u1Jj19DjU",
        "outputId": "75533498-4e75-4ae3-cae1-c76b5949d50b"
      },
      "execution_count": 60,
      "outputs": [
        {
          "output_type": "stream",
          "name": "stdout",
          "text": [
            "Updated dinner foods options:\n",
            "['ramen', 'risotto', 'pizza']\n"
          ]
        }
      ]
    }
  ]
}